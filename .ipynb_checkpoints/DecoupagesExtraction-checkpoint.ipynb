{
 "cells": [
  {
   "cell_type": "code",
   "execution_count": 132,
   "metadata": {
    "collapsed": true
   },
   "outputs": [],
   "source": [
    "import lxml.etree as ET\n",
    "import bs4\n",
    "import re\n",
    "import codecs"
   ]
  },
  {
   "cell_type": "code",
   "execution_count": 57,
   "metadata": {
    "collapsed": true
   },
   "outputs": [],
   "source": [
    "parser = ET.XMLParser(strip_cdata=False,encoding=\"utf8\")"
   ]
  },
  {
   "cell_type": "code",
   "execution_count": 58,
   "metadata": {
    "collapsed": false
   },
   "outputs": [],
   "source": [
    "fichierQuiz=\"quiz-Linguistique 1-Séparation des mots-20151116-1634.xml\"\n",
    "xmlQuiz=ET.parse(fichierQuiz,parser)"
   ]
  },
  {
   "cell_type": "code",
   "execution_count": 98,
   "metadata": {
    "collapsed": false
   },
   "outputs": [
    {
     "name": "stdout",
     "output_type": "stream",
     "text": [
      "[u\"S\\xe9parer les mots de la phrase suivante par des espaces : am\\u025bnmwa\\u0153\\u0303nuv\\u0281\\u0259bwatd\\u0259lak\\u0265izin {4:RX:=am\\u025bnmwa \\u0153\\u0303n uv\\u0281\\u0259bwat d\\u0259 la k\\u0265izin~^([^ ]+ +)?([^ ]+ +)?[^ ]+$#Il y a plus de mots~^([^ ]+ +)([^ ]+ +)([^ ]+ +)([^ ]+ +)([^ ]+ +)([^ ]+ +)([^ ]+ +)([^ ]+ +)([^ ]+ +)?[^ ]+$#Il y a moins de mots~--.* uv\\u0281\\u0259bwat .*#Attention au nom compos\\xe9.~%25%--.* k\\u0265izin#Il reste un nom facile \\xe0 identifier.~%50%--.* \\u0153\\u0303n .*#Attention \\xe0 la liaison avec l'ind\\xe9fini.~%75%--am\\u025bnmwa .*#Attention au clitique datif qui forme un seul mot avec le verbe conjugu\\xe9.}\", u'S\\xe9parer les mots de la phrase suivante par des espaces : s\\u025bt\\u0251\\u0303f\\u0251\\u0303\\u025bta\\u0281iveolise\\u0251\\u0303bys {4:RX:=s\\u025bt \\u0251\\u0303f\\u0251\\u0303 \\u025bt a\\u0281ive o lise \\u0251\\u0303 bys~^([^ ]+ +)?([^ ]+ +)?([^ ]+ +)?[^ ]+$#Il y a plus de mots~^([^ ]+ +)([^ ]+ +)([^ ]+ +)([^ ]+ +)([^ ]+ +)([^ ]+ +)([^ ]+ +)([^ ]+ +)([^ ]+ +)([^ ]+ +)?[^ ]+$#Il y a moins de mots~--.*(&& \\u0251\\u0303f\\u0251\\u0303 && a\\u0281ive && lise && bys).*#Il y a au moins quatre mots simples faciles \\xe0 identifier : trois noms et un verbe .~--.*s\\u025bt .*#Attention au d\\xe9monstratif.~--.* \\u025bt .*#Attention \\xe0 la liaison avec le verbe.}', u'S\\xe9parer les mots de la phrase suivante par des espaces : d\\u0259lasos\\u025bt\\u0254\\u0303bed\\u0259lalu\\u0283sy\\u0281se\\u0283osy\\u0281 {4:RX:=d\\u0259la sos \\u025b t\\u0254\\u0303be d\\u0259 la lu\\u0283 sy\\u0281 se \\u0283osy\\u0281~^([^ ]+ +)?([^ ]+ +)?([^ ]+ +)?([^ ]+ +)?([^ ]+ +)?([^ ]+ +)?[^ ]+$#Il y a plus de mots~^([^ ]+ +)([^ ]+ +)([^ ]+ +)([^ ]+ +)([^ ]+ +)([^ ]+ +)([^ ]+ +)([^ ]+ +)([^ ]+ +)([^ ]+ +)([^ ]+ +)([^ ]+ +)([^ ]+ +)?[^ ]+$#Il y a moins de mots~--.*(&& sos && t\\u0254\\u0303be && lu\\u0283 && \\u0283osy\\u0281).*#Il y a au moins quatre mots simples faciles \\xe0 identifier : trois noms et un verbe .~--.* sy\\u0281 .*#Attention \\xe0 la pr\\xe9position locative.~--d\\u0259la sos.*#Attention au partitif.~--.* d\\u0259 la lu\\u0283.*#Attention \\xe0 la pr\\xe9position.}', u'S\\xe9parer les mots de la phrase suivante par des espaces : d\\xf8zamis\\u0259s\\u0254\\u0303tasioba\\u0281 {4:RX:=d\\xf8z ami s\\u0259s\\u0254\\u0303t asi o ba\\u0281~^([^ ]+ +)?([^ ]+ +)?[^ ]+$#Il y a plus de mots~^([^ ]+ +)([^ ]+ +)([^ ]+ +)([^ ]+ +)([^ ]+ +)([^ ]+ +)([^ ]+ +)([^ ]+ +)([^ ]+ +)?[^ ]+$#Il y a moins de mots~--.*(&& ami && asi && ba\\u0281).*#Il y a au moins trois mots simples faciles \\xe0 identifier : deux noms et un verbe.~--.*d\\xf8z.*#Attention \\xe0 la liaison avec le num\\xe9ral.~--.*s\\u0254\\u0303t .*#Attention \\xe0 la liaison avec le verbe.~--.* s\\u0259s\\u0254\\u0303t .*#Attention au clitique r\\xe9fl\\xe9chi qui forme un seul mot avec le verbe conjugu\\xe9.}', u'S\\xe9parer les mots de la phrase suivante par des espaces : emililamizd\\u0251\\u0303s\\u0254\\u0303potof\\xf8s\\u0259mat\\u025b\\u0303 {4:RX:=emili la miz d\\u0251\\u0303 s\\u0254\\u0303 potof\\xf8 s\\u0259 mat\\u025b\\u0303~^([^ ]+ +)?([^ ]+ +)?([^ ]+ +)?([^ ]+ +)?[^ ]+$#Il y a plus de mots~^([^ ]+ +)([^ ]+ +)([^ ]+ +)([^ ]+ +)([^ ]+ +)([^ ]+ +)([^ ]+ +)([^ ]+ +)([^ ]+ +)([^ ]+ +)([^ ]+ +)*[^ ]+$#Il y a moins de mots~--.*(&&emili && miz && mat\\u025b\\u0303).*#Il y a au moins trois mots faciles \\xe0 identifier : deux noms et un verbe.~--.* potof\\xf8 .*#Attention au nom compos\\xe9.~--.* d\\u0251\\u0303 .*#Attention \\xe0 la forme de la pr\\xe9position.~--.* s\\u0254\\u0303 .*#Attention \\xe0 la forme du possessif.~--.* la .*#Attention au clitique objet qui forme un seul mot avec le verbe conjugu\\xe9.}', u'S\\xe9parer les mots de la phrase suivante par des espaces : lezetydj\\u0251\\u0303na\\u0281ivpa\\u0251\\u0303nav\\u0251\\u0303s {4:RX:=lez etydj\\u0251\\u0303 na\\u0281iv pa \\u0251\\u0303n av\\u0251\\u0303s~^([^ ]+ +)?([^ ]+ +)?[^ ]+$#Il y a plus de mots~^([^ ]+ +)([^ ]+ +)([^ ]+ +)([^ ]+ +)([^ ]+ +)([^ ]+ +)([^ ]+ +)([^ ]+ +)([^ ]+ +)?[^ ]+$#Il y a moins de mots~--.*(&& etydj\\u0251\\u0303 && pa && av\\u0251\\u0303s).*#Il y a au moins trois mots simples faciles \\xe0 identifier : deux noms et une n\\xe9gation.~--.*lez .*#Attention au d\\xe9fini pluriel.~--.* \\u0251\\u0303n .*#Attention \\xe0 la liaison de la pr\\xe9position.~--.* na\\u0281iv .*#Attention, la n\\xe9gation pr\\xe9verbale est un clitique pour les verbes conjugu\\xe9s.}', u'S\\xe9parer les mots de la phrase suivante par des espaces : s\\u0254\\u0303nidesog\\u0281\\u0259nyn\\u0259vj\\u025b\\u0303pad\\u0259mwa {4:RX:=s\\u0254\\u0303n ide sog\\u0281\\u0259ny n\\u0259vj\\u025b\\u0303 pa d\\u0259 mwa~^([^ ]+ +)?([^ ]+ +)?([^ ]+ +)?([^ ]+ +)?[^ ]+$#Il y a plus de mots~^([^ ]+ +)([^ ]+ +)([^ ]+ +)([^ ]+ +)([^ ]+ +)([^ ]+ +)([^ ]+ +)([^ ]+ +)([^ ]+ +)([^ ]+ +)*[^ ]+$#Il y a moins de mots~--.*(&& ide && sog\\u0281\\u0259ny && mwa).*#Il y a au moins trois mots faciles \\xe0 identifier : un nom, un adjectif et un pronom.~--s\\u0254\\u0303n .*#Attention au possessif.~--.* pa .*#Attention \\xe0 la n\\xe9gation post-verbale.~--.* n\\u0259vj\\u025b\\u0303 .*#Attention la n\\xe9gation pr\\xe9-verbale qui est clitique pour les verbes conjugu\\xe9s.}', u'S\\xe9parer les mots de la phrase suivante par des espaces : \\u0153\\u0303sav\\u0251\\u0303t\\u0251\\u0303gl\\u025bm\\u0259ladi {4:RX:=\\u0153\\u0303 sav\\u0251\\u0303t \\u0251\\u0303gl\\u025b m\\u0259la di~^([^ ]+ +)?[^ ]+$#Il y a plus de mots~^([^ ]+ +)([^ ]+ +)([^ ]+ +)([^ ]+ +)([^ ]+ +)([^ ]+ +)([^ ]+ +)([^ ]+ +)?[^ ]+$#Il y a moins de mots~--.*(&& sav\\u0251\\u0303t && \\u0251\\u0303gl\\u025b && di).*#Il y a au moins trois mots simples faciles \\xe0 identifier : un adjectif, un nom et un verbe.~--.*la di#Attention au clitique objet qui forme un seul mot avec le verbe conjugu\\xe9.~--.*m\\u0259la .*#Attention au clitique datif qui fait partie du verbe conjugu\\xe9.}']\n"
     ]
    }
   ],
   "source": [
    "enonces=[]\n",
    "for element in xmlQuiz.xpath(\"question/questiontext/text/text()\"):\n",
    "#    print etree.tostring(question,pretty_print=True,encoding=\"unicode\")\n",
    "    element=element.replace(\"<br>\",\"<br/>\")\n",
    "    content=\"<content>\"+element+\"</content>\"\n",
    "#    print element\n",
    "    cdata= ET.fromstring(content)\n",
    "#    cdata.append(content)\n",
    "#    print etree.tostring(cdata,pretty_print=True,encoding=\"unicode\")\n",
    "#    for consigne in cdata.xpath(\"//text()\"):\n",
    "#        print consigne\n",
    "#    print [\" \".join(cdata.xpath(\"//text()\"))]\n",
    "    enonces.append(re.sub(ur\"(\\s|\\ufeff)+\",\" \",\" \".join(cdata.xpath(\"//text()\"))))\n",
    "#    print \"---------------\"\n",
    "#    contenu=etree.fromstring(question.text)\n",
    "#    print etree.tostring(contenu,pretty_print=True,encoding=\"unicode\")\n",
    "print enonces"
   ]
  },
  {
   "cell_type": "code",
   "execution_count": 129,
   "metadata": {
    "collapsed": false,
    "scrolled": true
   },
   "outputs": [
    {
     "data": {
      "text/plain": [
       "['#EX;',\n",
       " u'am\\u025bnmwa \\u0153\\u0303n uv\\u0281\\u0259bwat d\\u0259 la k\\u0265izin',\n",
       " u'^([^ ]+ +)?([^ ]+ +)?[^ ]+$#Il y a plus de mots',\n",
       " u'^([^ ]+ +)([^ ]+ +)([^ ]+ +)([^ ]+ +)([^ ]+ +)([^ ]+ +)([^ ]+ +)([^ ]+ +)([^ ]+ +)?[^ ]+$#Il y a moins de mots',\n",
       " u'--.* uv\\u0281\\u0259bwat .*#Attention au nom compos\\xe9.',\n",
       " u'%25%--.* k\\u0265izin#Il reste un nom facile \\xe0 identifier.',\n",
       " u\"%50%--.* \\u0153\\u0303n .*#Attention \\xe0 la liaison avec l'ind\\xe9fini.\",\n",
       " u'%75%--am\\u025bnmwa .*#Attention au clitique datif qui forme un seul mot avec le verbe conjugu\\xe9.',\n",
       " '#EX;',\n",
       " u's\\u025bt \\u0251\\u0303f\\u0251\\u0303 \\u025bt a\\u0281ive o lise \\u0251\\u0303 bys',\n",
       " u'^([^ ]+ +)?([^ ]+ +)?([^ ]+ +)?[^ ]+$#Il y a plus de mots',\n",
       " u'^([^ ]+ +)([^ ]+ +)([^ ]+ +)([^ ]+ +)([^ ]+ +)([^ ]+ +)([^ ]+ +)([^ ]+ +)([^ ]+ +)([^ ]+ +)?[^ ]+$#Il y a moins de mots',\n",
       " u'--.*(&& \\u0251\\u0303f\\u0251\\u0303 && a\\u0281ive && lise && bys).*#Il y a au moins quatre mots simples faciles \\xe0 identifier : trois noms et un verbe .',\n",
       " u'--.*s\\u025bt .*#Attention au d\\xe9monstratif.',\n",
       " u'--.* \\u025bt .*#Attention \\xe0 la liaison avec le verbe.',\n",
       " '#EX;',\n",
       " u'd\\u0259la sos \\u025b t\\u0254\\u0303be d\\u0259 la lu\\u0283 sy\\u0281 se \\u0283osy\\u0281',\n",
       " u'^([^ ]+ +)?([^ ]+ +)?([^ ]+ +)?([^ ]+ +)?([^ ]+ +)?([^ ]+ +)?[^ ]+$#Il y a plus de mots',\n",
       " u'^([^ ]+ +)([^ ]+ +)([^ ]+ +)([^ ]+ +)([^ ]+ +)([^ ]+ +)([^ ]+ +)([^ ]+ +)([^ ]+ +)([^ ]+ +)([^ ]+ +)([^ ]+ +)([^ ]+ +)?[^ ]+$#Il y a moins de mots',\n",
       " u'--.*(&& sos && t\\u0254\\u0303be && lu\\u0283 && \\u0283osy\\u0281).*#Il y a au moins quatre mots simples faciles \\xe0 identifier : trois noms et un verbe .',\n",
       " u'--.* sy\\u0281 .*#Attention \\xe0 la pr\\xe9position locative.',\n",
       " u'--d\\u0259la sos.*#Attention au partitif.',\n",
       " u'--.* d\\u0259 la lu\\u0283.*#Attention \\xe0 la pr\\xe9position.',\n",
       " '#EX;',\n",
       " u'd\\xf8z ami s\\u0259s\\u0254\\u0303t asi o ba\\u0281',\n",
       " u'^([^ ]+ +)?([^ ]+ +)?[^ ]+$#Il y a plus de mots',\n",
       " u'^([^ ]+ +)([^ ]+ +)([^ ]+ +)([^ ]+ +)([^ ]+ +)([^ ]+ +)([^ ]+ +)([^ ]+ +)([^ ]+ +)?[^ ]+$#Il y a moins de mots',\n",
       " u'--.*(&& ami && asi && ba\\u0281).*#Il y a au moins trois mots simples faciles \\xe0 identifier : deux noms et un verbe.',\n",
       " u'--.*d\\xf8z.*#Attention \\xe0 la liaison avec le num\\xe9ral.',\n",
       " u'--.*s\\u0254\\u0303t .*#Attention \\xe0 la liaison avec le verbe.',\n",
       " u'--.* s\\u0259s\\u0254\\u0303t .*#Attention au clitique r\\xe9fl\\xe9chi qui forme un seul mot avec le verbe conjugu\\xe9.',\n",
       " '#EX;',\n",
       " u'emili la miz d\\u0251\\u0303 s\\u0254\\u0303 potof\\xf8 s\\u0259 mat\\u025b\\u0303',\n",
       " u'^([^ ]+ +)?([^ ]+ +)?([^ ]+ +)?([^ ]+ +)?[^ ]+$#Il y a plus de mots',\n",
       " u'^([^ ]+ +)([^ ]+ +)([^ ]+ +)([^ ]+ +)([^ ]+ +)([^ ]+ +)([^ ]+ +)([^ ]+ +)([^ ]+ +)([^ ]+ +)([^ ]+ +)*[^ ]+$#Il y a moins de mots',\n",
       " u'--.*(&&emili && miz && mat\\u025b\\u0303).*#Il y a au moins trois mots faciles \\xe0 identifier : deux noms et un verbe.',\n",
       " u'--.* potof\\xf8 .*#Attention au nom compos\\xe9.',\n",
       " u'--.* d\\u0251\\u0303 .*#Attention \\xe0 la forme de la pr\\xe9position.',\n",
       " u'--.* s\\u0254\\u0303 .*#Attention \\xe0 la forme du possessif.',\n",
       " u'--.* la .*#Attention au clitique objet qui forme un seul mot avec le verbe conjugu\\xe9.',\n",
       " '#EX;',\n",
       " u'lez etydj\\u0251\\u0303 na\\u0281iv pa \\u0251\\u0303n av\\u0251\\u0303s',\n",
       " u'^([^ ]+ +)?([^ ]+ +)?[^ ]+$#Il y a plus de mots',\n",
       " u'^([^ ]+ +)([^ ]+ +)([^ ]+ +)([^ ]+ +)([^ ]+ +)([^ ]+ +)([^ ]+ +)([^ ]+ +)([^ ]+ +)?[^ ]+$#Il y a moins de mots',\n",
       " u'--.*(&& etydj\\u0251\\u0303 && pa && av\\u0251\\u0303s).*#Il y a au moins trois mots simples faciles \\xe0 identifier : deux noms et une n\\xe9gation.',\n",
       " u'--.*lez .*#Attention au d\\xe9fini pluriel.',\n",
       " u'--.* \\u0251\\u0303n .*#Attention \\xe0 la liaison de la pr\\xe9position.',\n",
       " u'--.* na\\u0281iv .*#Attention, la n\\xe9gation pr\\xe9verbale est un clitique pour les verbes conjugu\\xe9s.',\n",
       " '#EX;',\n",
       " u's\\u0254\\u0303n ide sog\\u0281\\u0259ny n\\u0259vj\\u025b\\u0303 pa d\\u0259 mwa',\n",
       " u'^([^ ]+ +)?([^ ]+ +)?([^ ]+ +)?([^ ]+ +)?[^ ]+$#Il y a plus de mots',\n",
       " u'^([^ ]+ +)([^ ]+ +)([^ ]+ +)([^ ]+ +)([^ ]+ +)([^ ]+ +)([^ ]+ +)([^ ]+ +)([^ ]+ +)([^ ]+ +)*[^ ]+$#Il y a moins de mots',\n",
       " u'--.*(&& ide && sog\\u0281\\u0259ny && mwa).*#Il y a au moins trois mots faciles \\xe0 identifier : un nom, un adjectif et un pronom.',\n",
       " u'--s\\u0254\\u0303n .*#Attention au possessif.',\n",
       " u'--.* pa .*#Attention \\xe0 la n\\xe9gation post-verbale.',\n",
       " u'--.* n\\u0259vj\\u025b\\u0303 .*#Attention la n\\xe9gation pr\\xe9-verbale qui est clitique pour les verbes conjugu\\xe9s.',\n",
       " '#EX;',\n",
       " u'\\u0153\\u0303 sav\\u0251\\u0303t \\u0251\\u0303gl\\u025b m\\u0259la di',\n",
       " u'^([^ ]+ +)?[^ ]+$#Il y a plus de mots',\n",
       " u'^([^ ]+ +)([^ ]+ +)([^ ]+ +)([^ ]+ +)([^ ]+ +)([^ ]+ +)([^ ]+ +)([^ ]+ +)?[^ ]+$#Il y a moins de mots',\n",
       " u'--.*(&& sav\\u0251\\u0303t && \\u0251\\u0303gl\\u025b && di).*#Il y a au moins trois mots simples faciles \\xe0 identifier : un adjectif, un nom et un verbe.',\n",
       " u'--.*la di#Attention au clitique objet qui forme un seul mot avec le verbe conjugu\\xe9.',\n",
       " u'--.*m\\u0259la .*#Attention au clitique datif qui fait partie du verbe conjugu\\xe9.']"
      ]
     },
     "execution_count": 129,
     "metadata": {},
     "output_type": "execute_result"
    }
   ],
   "source": [
    "lignesEntree=[]\n",
    "for enonce in enonces:\n",
    "#    print enonce\n",
    "    lignesEntree.append(\"#EX;\")\n",
    "    reponses=re.search(ur\"{4:RX:=(.+)}\", enonce)\n",
    "    if reponses:\n",
    "        for group in reponses.groups():\n",
    "            groups=group.split(\"~\")\n",
    "            lignesEntree.extend(groups)\n",
    "lignesEntree\n"
   ]
  },
  {
   "cell_type": "code",
   "execution_count": 136,
   "metadata": {
    "collapsed": false
   },
   "outputs": [],
   "source": [
    "fichierSortie=\"SeparationMots.txt\"\n",
    "with codecs.open(fichierSortie,\"w\",encoding=\"utf8\") as output:\n",
    "    for ligne in lignesEntree:\n",
    "            output.write(ligne+\"\\n\")"
   ]
  }
 ],
 "metadata": {
  "kernelspec": {
   "display_name": "Python 2",
   "language": "python",
   "name": "python2"
  },
  "language_info": {
   "codemirror_mode": {
    "name": "ipython",
    "version": 2
   },
   "file_extension": ".py",
   "mimetype": "text/x-python",
   "name": "python",
   "nbconvert_exporter": "python",
   "pygments_lexer": "ipython2",
   "version": "2.7.10"
  }
 },
 "nbformat": 4,
 "nbformat_minor": 0
}
